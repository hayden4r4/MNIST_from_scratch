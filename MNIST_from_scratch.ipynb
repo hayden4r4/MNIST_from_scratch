{
 "cells": [
  {
   "cell_type": "markdown",
   "id": "a0cb19de-d8db-4b52-92da-62aa2eb9c44a",
   "metadata": {},
   "source": [
    "Here we are using cupy and cudf from RAPIDS-0.19 so we can take advantage of our gpu for training.  This can be swapped back to numpy and pandas with the only lines needing changed is importing data below."
   ]
  },
  {
   "cell_type": "code",
   "execution_count": 19,
   "id": "36aaf3de-2e51-4405-9b8d-7afdc78ddd64",
   "metadata": {},
   "outputs": [],
   "source": [
    "import cupy as np\n",
    "import cudf as pd\n",
    "import matplotlib.pyplot as plt"
   ]
  },
  {
   "cell_type": "markdown",
   "id": "8fed2238-3132-484f-ba2c-d73d37f18082",
   "metadata": {},
   "source": [
    "Importing our data from the kaggle dataset.  \n",
    "Note that cupy does not support np.array(df), instead we must send the df to_dlpack from cudf and load to cupy using fromdlpack, this line must be swapped with the commented out line if using numpy, it should be the only change necessary to use numpy instead of cupy."
   ]
  },
  {
   "cell_type": "code",
   "execution_count": 20,
   "id": "20c7b177-dbbd-46dc-8a43-eddd1fa56bf4",
   "metadata": {},
   "outputs": [
    {
     "data": {
      "text/html": [
       "<div>\n",
       "<style scoped>\n",
       "    .dataframe tbody tr th:only-of-type {\n",
       "        vertical-align: middle;\n",
       "    }\n",
       "\n",
       "    .dataframe tbody tr th {\n",
       "        vertical-align: top;\n",
       "    }\n",
       "\n",
       "    .dataframe thead th {\n",
       "        text-align: right;\n",
       "    }\n",
       "</style>\n",
       "<table border=\"1\" class=\"dataframe\">\n",
       "  <thead>\n",
       "    <tr style=\"text-align: right;\">\n",
       "      <th></th>\n",
       "      <th>label</th>\n",
       "      <th>pixel0</th>\n",
       "      <th>pixel1</th>\n",
       "      <th>pixel2</th>\n",
       "      <th>pixel3</th>\n",
       "      <th>pixel4</th>\n",
       "      <th>pixel5</th>\n",
       "      <th>pixel6</th>\n",
       "      <th>pixel7</th>\n",
       "      <th>pixel8</th>\n",
       "      <th>...</th>\n",
       "      <th>pixel774</th>\n",
       "      <th>pixel775</th>\n",
       "      <th>pixel776</th>\n",
       "      <th>pixel777</th>\n",
       "      <th>pixel778</th>\n",
       "      <th>pixel779</th>\n",
       "      <th>pixel780</th>\n",
       "      <th>pixel781</th>\n",
       "      <th>pixel782</th>\n",
       "      <th>pixel783</th>\n",
       "    </tr>\n",
       "  </thead>\n",
       "  <tbody>\n",
       "    <tr>\n",
       "      <th>0</th>\n",
       "      <td>1</td>\n",
       "      <td>0</td>\n",
       "      <td>0</td>\n",
       "      <td>0</td>\n",
       "      <td>0</td>\n",
       "      <td>0</td>\n",
       "      <td>0</td>\n",
       "      <td>0</td>\n",
       "      <td>0</td>\n",
       "      <td>0</td>\n",
       "      <td>...</td>\n",
       "      <td>0</td>\n",
       "      <td>0</td>\n",
       "      <td>0</td>\n",
       "      <td>0</td>\n",
       "      <td>0</td>\n",
       "      <td>0</td>\n",
       "      <td>0</td>\n",
       "      <td>0</td>\n",
       "      <td>0</td>\n",
       "      <td>0</td>\n",
       "    </tr>\n",
       "    <tr>\n",
       "      <th>1</th>\n",
       "      <td>0</td>\n",
       "      <td>0</td>\n",
       "      <td>0</td>\n",
       "      <td>0</td>\n",
       "      <td>0</td>\n",
       "      <td>0</td>\n",
       "      <td>0</td>\n",
       "      <td>0</td>\n",
       "      <td>0</td>\n",
       "      <td>0</td>\n",
       "      <td>...</td>\n",
       "      <td>0</td>\n",
       "      <td>0</td>\n",
       "      <td>0</td>\n",
       "      <td>0</td>\n",
       "      <td>0</td>\n",
       "      <td>0</td>\n",
       "      <td>0</td>\n",
       "      <td>0</td>\n",
       "      <td>0</td>\n",
       "      <td>0</td>\n",
       "    </tr>\n",
       "    <tr>\n",
       "      <th>2</th>\n",
       "      <td>1</td>\n",
       "      <td>0</td>\n",
       "      <td>0</td>\n",
       "      <td>0</td>\n",
       "      <td>0</td>\n",
       "      <td>0</td>\n",
       "      <td>0</td>\n",
       "      <td>0</td>\n",
       "      <td>0</td>\n",
       "      <td>0</td>\n",
       "      <td>...</td>\n",
       "      <td>0</td>\n",
       "      <td>0</td>\n",
       "      <td>0</td>\n",
       "      <td>0</td>\n",
       "      <td>0</td>\n",
       "      <td>0</td>\n",
       "      <td>0</td>\n",
       "      <td>0</td>\n",
       "      <td>0</td>\n",
       "      <td>0</td>\n",
       "    </tr>\n",
       "    <tr>\n",
       "      <th>3</th>\n",
       "      <td>4</td>\n",
       "      <td>0</td>\n",
       "      <td>0</td>\n",
       "      <td>0</td>\n",
       "      <td>0</td>\n",
       "      <td>0</td>\n",
       "      <td>0</td>\n",
       "      <td>0</td>\n",
       "      <td>0</td>\n",
       "      <td>0</td>\n",
       "      <td>...</td>\n",
       "      <td>0</td>\n",
       "      <td>0</td>\n",
       "      <td>0</td>\n",
       "      <td>0</td>\n",
       "      <td>0</td>\n",
       "      <td>0</td>\n",
       "      <td>0</td>\n",
       "      <td>0</td>\n",
       "      <td>0</td>\n",
       "      <td>0</td>\n",
       "    </tr>\n",
       "    <tr>\n",
       "      <th>4</th>\n",
       "      <td>0</td>\n",
       "      <td>0</td>\n",
       "      <td>0</td>\n",
       "      <td>0</td>\n",
       "      <td>0</td>\n",
       "      <td>0</td>\n",
       "      <td>0</td>\n",
       "      <td>0</td>\n",
       "      <td>0</td>\n",
       "      <td>0</td>\n",
       "      <td>...</td>\n",
       "      <td>0</td>\n",
       "      <td>0</td>\n",
       "      <td>0</td>\n",
       "      <td>0</td>\n",
       "      <td>0</td>\n",
       "      <td>0</td>\n",
       "      <td>0</td>\n",
       "      <td>0</td>\n",
       "      <td>0</td>\n",
       "      <td>0</td>\n",
       "    </tr>\n",
       "  </tbody>\n",
       "</table>\n",
       "<p>5 rows × 785 columns</p>\n",
       "</div>"
      ],
      "text/plain": [
       "   label  pixel0  pixel1  pixel2  pixel3  pixel4  pixel5  pixel6  pixel7  \\\n",
       "0      1       0       0       0       0       0       0       0       0   \n",
       "1      0       0       0       0       0       0       0       0       0   \n",
       "2      1       0       0       0       0       0       0       0       0   \n",
       "3      4       0       0       0       0       0       0       0       0   \n",
       "4      0       0       0       0       0       0       0       0       0   \n",
       "\n",
       "   pixel8  ...  pixel774  pixel775  pixel776  pixel777  pixel778  pixel779  \\\n",
       "0       0  ...         0         0         0         0         0         0   \n",
       "1       0  ...         0         0         0         0         0         0   \n",
       "2       0  ...         0         0         0         0         0         0   \n",
       "3       0  ...         0         0         0         0         0         0   \n",
       "4       0  ...         0         0         0         0         0         0   \n",
       "\n",
       "   pixel780  pixel781  pixel782  pixel783  \n",
       "0         0         0         0         0  \n",
       "1         0         0         0         0  \n",
       "2         0         0         0         0  \n",
       "3         0         0         0         0  \n",
       "4         0         0         0         0  \n",
       "\n",
       "[5 rows x 785 columns]"
      ]
     },
     "metadata": {},
     "output_type": "display_data"
    }
   ],
   "source": [
    "train = pd.read_csv('./Dataset/train.csv')\n",
    "display(train.head())\n",
    "data = np.fromDlpack(train.to_dlpack())\n",
    "# data = np.array(train)"
   ]
  },
  {
   "cell_type": "markdown",
   "id": "55c85caf-b973-4613-8b87-c3e7b3333da9",
   "metadata": {},
   "source": [
    "Split 20% to test set and 80% to train set, also split the labels from each"
   ]
  },
  {
   "cell_type": "code",
   "execution_count": 21,
   "id": "8d773067-d2ac-4e9c-99ff-39ce986e98d0",
   "metadata": {},
   "outputs": [],
   "source": [
    "m, n = data.shape\n",
    "test_length = int(m * .2)\n",
    "test = data[0:test_length].T\n",
    "Y_test = test[0]\n",
    "X_test = test[1:] / 255.\n",
    "\n",
    "train = data[test_length:].T\n",
    "Y_train = train[0]\n",
    "X_train = train[1:] / 255."
   ]
  },
  {
   "cell_type": "markdown",
   "id": "cf86cca2-8a4f-4446-a603-245f3fbe9de7",
   "metadata": {},
   "source": [
    "Randomly initialize the parameters"
   ]
  },
  {
   "cell_type": "code",
   "execution_count": 22,
   "id": "4db56e7b-b32c-42e8-8f73-3cb263b35054",
   "metadata": {},
   "outputs": [],
   "source": [
    "def init_params():\n",
    "    w1 = np.random.rand(10, 784) - 0.5\n",
    "    b1 = np.random.rand(10, 1) - 0.5\n",
    "    w2 = np.random.rand(10, 10) - 0.5\n",
    "    b2 = np.random.rand(10, 1) - 0.5\n",
    "    return w1, b1, w2, b2"
   ]
  },
  {
   "cell_type": "markdown",
   "id": "2a3f3aa1-b202-478b-84a0-996e7658d7c7",
   "metadata": {},
   "source": [
    "Using ReLU as our activation function for the hidden layer and softmax as the activation function for our output layer."
   ]
  },
  {
   "cell_type": "code",
   "execution_count": 23,
   "id": "c6347efe-ffcd-4d02-8039-20907ed0a0fe",
   "metadata": {},
   "outputs": [],
   "source": [
    "def ReLU(z):\n",
    "    return np.maximum(0, z)\n",
    "\n",
    "def softmax(z):\n",
    "    e = np.exp(z)\n",
    "    return e / sum(e)"
   ]
  },
  {
   "cell_type": "markdown",
   "id": "c81d16e2-69d8-424e-aaab-585ceb372c88",
   "metadata": {},
   "source": [
    "Here we calculate the derivative of ReLU, which is either one or zero, one if Z>0 or 0 if Z<0, so we can simply return a boolean for this condition"
   ]
  },
  {
   "cell_type": "code",
   "execution_count": 25,
   "id": "5d903a1a-0b50-404b-92bd-49fbb406e698",
   "metadata": {},
   "outputs": [],
   "source": [
    "def der_ReLU(Z):\n",
    "    return Z > 0"
   ]
  },
  {
   "cell_type": "markdown",
   "id": "c7d8f9d5-8f97-4b3c-89b5-830cbfee4feb",
   "metadata": {},
   "source": [
    "We must one hot the labels for use"
   ]
  },
  {
   "cell_type": "code",
   "execution_count": 24,
   "id": "8ac5a607-09d5-4060-aa6c-7e14550a6fee",
   "metadata": {},
   "outputs": [],
   "source": [
    "def one_hot(Y):\n",
    "    one_hot_Y = np.zeros((Y.size, int(Y.max() + 1)))\n",
    "    one_hot_Y[np.arange(Y.size), Y] = 1\n",
    "    return (one_hot_Y := one_hot_Y.T)"
   ]
  },
  {
   "cell_type": "markdown",
   "id": "620171c8-73e2-4bf5-9dce-cffbd6d3e4c2",
   "metadata": {},
   "source": [
    "Create the forward and back propogation functions"
   ]
  },
  {
   "cell_type": "code",
   "execution_count": 26,
   "id": "9365f586-76ab-4dc2-9e00-a2fb3a5aea29",
   "metadata": {},
   "outputs": [],
   "source": [
    "def forward(w1, b1, w2, b2, X):\n",
    "    z1 = w1.dot(X) + b1\n",
    "    a1 = ReLU(z1)\n",
    "    z2 = w2.dot(a1) + b2\n",
    "    a2 = softmax(z2)\n",
    "    return z1, a1, z2, a2\n",
    "\n",
    "def back(z1, a1, z2, a2, w2, X, Y):\n",
    "    one_hot_Y = one_hot(Y)\n",
    "    dz2 = a2 - one_hot_Y\n",
    "    dw2 = (1 / m) * dz2.dot(a1.T)\n",
    "    db2 = (1 / m) * np.sum(dz2)\n",
    "    dz1 = w2.T.dot(dz2) * der_ReLU(z1)\n",
    "    dw1 = (1 / m) * dz1.dot(X.T)\n",
    "    db1 = (1 / m) * np.sum(dz1)\n",
    "    return dw1, db1, dw2, db2    "
   ]
  },
  {
   "cell_type": "code",
   "execution_count": 27,
   "id": "8d5894d0-8753-47f3-aa19-79ea0594c507",
   "metadata": {},
   "outputs": [],
   "source": [
    "def update_params(w1, b1, w2, b2, dw1, db1, dw2, db2, alpha):\n",
    "    w1 = w1 - alpha * dw1\n",
    "    b1 = b1 - alpha * db1\n",
    "    w2 = w2 - alpha * dw2\n",
    "    b2 = b2 - alpha * db2\n",
    "    return w1, b1, w2, b2"
   ]
  },
  {
   "cell_type": "markdown",
   "id": "e3803790-b1e5-408b-ac6b-2e910bcda2b2",
   "metadata": {},
   "source": [
    "Here we create a progress and accuracy meter and create the gradient descent function. "
   ]
  },
  {
   "cell_type": "code",
   "execution_count": 28,
   "id": "cbcefcd8-a6c0-4f1f-a554-da1e576ef8af",
   "metadata": {},
   "outputs": [],
   "source": [
    "def get_predictions(a2):\n",
    "    return np.argmax(a2, 0)\n",
    "\n",
    "def get_accuracy(predictions, Y):\n",
    "    print(predictions, Y)\n",
    "    return np.sum(predictions == Y) / Y.size\n",
    "\n",
    "def grad_desc(X, Y, iterations, alpha):\n",
    "    w1, b1, w2, b2 = init_params()\n",
    "    for i in range(iterations):\n",
    "        z1, a1, z2, a2 = forward(w1, b1, w2, b2, X)\n",
    "        dw1, db1, dw2, db2 = back(z1, a1, z2, a2, w2, X, Y)\n",
    "        w1, b1, w2, b2 = update_params(w1, b1, w2, b2, dw1, db1, dw2, db2, alpha)\n",
    "        if i % 100 == 0:\n",
    "            print('Iteration: ', i)\n",
    "            print('Accuracy: ', get_accuracy(get_predictions(a2), Y))\n",
    "    return w1, b1, w2, b2"
   ]
  },
  {
   "cell_type": "markdown",
   "id": "62a2363d-1f19-4953-9bf7-ff8d6710a806",
   "metadata": {},
   "source": [
    "Lets train the model. The alpha used here is very high, but higher values seemed to not only converge faster but also produce a higher accuracy on the test set."
   ]
  },
  {
   "cell_type": "code",
   "execution_count": 59,
   "id": "52eac84d-9dbd-4bcc-8950-377d0fcaaaac",
   "metadata": {},
   "outputs": [
    {
     "name": "stdout",
     "output_type": "stream",
     "text": [
      "Iteration:  0\n",
      "[1 2 4 ... 0 0 0] [5 0 9 ... 7 6 9]\n",
      "Accuracy:  0.10461309523809524\n",
      "Iteration:  100\n",
      "[5 0 9 ... 7 6 9] [5 0 9 ... 7 6 9]\n",
      "Accuracy:  0.852827380952381\n",
      "Iteration:  200\n",
      "[5 0 9 ... 7 6 9] [5 0 9 ... 7 6 9]\n",
      "Accuracy:  0.8928571428571429\n",
      "Iteration:  300\n",
      "[5 0 9 ... 7 6 9] [5 0 9 ... 7 6 9]\n",
      "Accuracy:  0.9035714285714286\n",
      "Iteration:  400\n",
      "[5 0 9 ... 7 6 9] [5 0 9 ... 7 6 9]\n",
      "Accuracy:  0.9186904761904762\n",
      "Iteration:  500\n",
      "[5 0 9 ... 7 6 9] [5 0 9 ... 7 6 9]\n",
      "Accuracy:  0.9222023809523809\n",
      "Iteration:  600\n",
      "[5 0 9 ... 7 6 9] [5 0 9 ... 7 6 9]\n",
      "Accuracy:  0.9248511904761905\n",
      "Iteration:  700\n",
      "[5 0 9 ... 7 6 9] [5 0 9 ... 7 6 9]\n",
      "Accuracy:  0.9299404761904762\n",
      "Iteration:  800\n",
      "[5 0 9 ... 7 6 9] [5 0 9 ... 7 6 9]\n",
      "Accuracy:  0.9306845238095238\n",
      "Iteration:  900\n",
      "[5 0 9 ... 7 6 9] [5 0 9 ... 7 6 9]\n",
      "Accuracy:  0.9341071428571428\n",
      "Iteration:  1000\n",
      "[5 0 9 ... 7 6 9] [5 0 9 ... 7 6 9]\n",
      "Accuracy:  0.9339583333333333\n",
      "Iteration:  1100\n",
      "[5 0 9 ... 7 6 9] [5 0 9 ... 7 6 9]\n",
      "Accuracy:  0.9372916666666666\n",
      "Iteration:  1200\n",
      "[5 0 9 ... 7 6 9] [5 0 9 ... 7 6 9]\n",
      "Accuracy:  0.9390773809523809\n",
      "Iteration:  1300\n",
      "[5 0 9 ... 7 6 9] [5 0 9 ... 7 6 9]\n",
      "Accuracy:  0.9397916666666667\n",
      "Iteration:  1400\n",
      "[5 0 9 ... 7 6 9] [5 0 9 ... 7 6 9]\n",
      "Accuracy:  0.9411011904761905\n"
     ]
    }
   ],
   "source": [
    "w1, b1, w2, b2 = grad_desc(X_train, Y_train, iterations=1500, alpha = .8)"
   ]
  },
  {
   "cell_type": "markdown",
   "id": "bb81bccb-1476-4278-8636-20fac4b74cfe",
   "metadata": {},
   "source": [
    "Now lets create the functions which allow us to test our model"
   ]
  },
  {
   "cell_type": "code",
   "execution_count": 45,
   "id": "ae60e32b-e707-4eca-9f84-295cc27dba6d",
   "metadata": {},
   "outputs": [],
   "source": [
    "def make_predictions(X, w1, b1, w2, b2):\n",
    "    _, _, _, a2 = forward(w1, b1, w2, b2, X)\n",
    "    predictions = get_predictions(a2)\n",
    "    return predictions\n",
    "\n",
    "def test_prediction(index, w1, b1, w2, b2):\n",
    "    current_image = X_train[:, index, None]\n",
    "    prediction = make_predictions(X_train[:, index, None], w1, b1, w2, b2)\n",
    "    label = Y_train[index]\n",
    "    print(\"Prediction: \", prediction)\n",
    "    print(\"Label: \", label)\n",
    "    \n",
    "    current_image = current_image.reshape((28, 28)) * 255\n",
    "    plt.gray()\n",
    "    plt.imshow(current_image.get(), interpolation='nearest')\n",
    "    plt.show()"
   ]
  },
  {
   "cell_type": "markdown",
   "id": "91482b3f-0621-457b-ad6b-fd268b38b966",
   "metadata": {},
   "source": [
    "Testing model on test set produces 93% accuracy, not perfect but not bad either."
   ]
  },
  {
   "cell_type": "code",
   "execution_count": 60,
   "id": "8783358a-6e6c-489e-b44e-35de74830586",
   "metadata": {},
   "outputs": [
    {
     "name": "stdout",
     "output_type": "stream",
     "text": [
      "[1 0 1 ... 6 4 5] [1 0 1 ... 6 4 5]\n"
     ]
    },
    {
     "data": {
      "text/plain": [
       "array(0.93238095)"
      ]
     },
     "execution_count": 60,
     "metadata": {},
     "output_type": "execute_result"
    }
   ],
   "source": [
    "test_predictions = make_predictions(X_test, w1, b1, w2, b2)\n",
    "get_accuracy(test_predictions, Y_test)"
   ]
  },
  {
   "cell_type": "code",
   "execution_count": 61,
   "id": "c43ee555-f3bb-4cc1-a3e5-556c26a49af8",
   "metadata": {},
   "outputs": [
    {
     "name": "stdout",
     "output_type": "stream",
     "text": [
      "Prediction:  [0]\n",
      "Label:  0\n"
     ]
    },
    {
     "data": {
      "image/png": "[encoded data removed]",
      "text/plain": [
       "<Figure size 432x288 with 1 Axes>"
      ]
     },
     "metadata": {
      "needs_background": "light"
     },
     "output_type": "display_data"
    }
   ],
   "source": [
    "test_prediction(1, w1, b1, w2, b2)"
   ]
  },
  {
   "cell_type": "code",
   "execution_count": null,
   "id": "b60c228a-0b50-4259-8ba6-09d6cda82fc4",
   "metadata": {},
   "outputs": [],
   "source": []
  }
 ],
 "metadata": {
  "kernelspec": {
   "display_name": "python3-rapids-0.19",
   "language": "python",
   "name": "python3-rapids-0.19"
  },
  "language_info": {
   "codemirror_mode": {
    "name": "ipython",
    "version": 3
   },
   "file_extension": ".py",
   "mimetype": "text/x-python",
   "name": "python",
   "nbconvert_exporter": "python",
   "pygments_lexer": "ipython3",
   "version": "3.8.8"
  }
 },
 "nbformat": 4,
 "nbformat_minor": 5
}
